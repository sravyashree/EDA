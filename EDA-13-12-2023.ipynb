{
 "cells": [
  {
   "cell_type": "code",
   "execution_count": 1,
   "id": "cb5091e5",
   "metadata": {},
   "outputs": [],
   "source": [
    "import pandas as pd\n",
    "import seaborn as sns\n",
    "import matplotlib.pyplot as plt\n",
    "import numpy as np"
   ]
  },
  {
   "cell_type": "code",
   "execution_count": 2,
   "id": "9657ae27",
   "metadata": {},
   "outputs": [
    {
     "data": {
      "text/html": [
       "<div>\n",
       "<style scoped>\n",
       "    .dataframe tbody tr th:only-of-type {\n",
       "        vertical-align: middle;\n",
       "    }\n",
       "\n",
       "    .dataframe tbody tr th {\n",
       "        vertical-align: top;\n",
       "    }\n",
       "\n",
       "    .dataframe thead th {\n",
       "        text-align: right;\n",
       "    }\n",
       "</style>\n",
       "<table border=\"1\" class=\"dataframe\">\n",
       "  <thead>\n",
       "    <tr style=\"text-align: right;\">\n",
       "      <th></th>\n",
       "      <th>case_id</th>\n",
       "      <th>continent</th>\n",
       "      <th>education_of_employee</th>\n",
       "      <th>has_job_experience</th>\n",
       "      <th>requires_job_training</th>\n",
       "      <th>no_of_employees</th>\n",
       "      <th>yr_of_estab</th>\n",
       "      <th>region_of_employment</th>\n",
       "      <th>prevailing_wage</th>\n",
       "      <th>unit_of_wage</th>\n",
       "      <th>full_time_position</th>\n",
       "      <th>case_status</th>\n",
       "    </tr>\n",
       "  </thead>\n",
       "  <tbody>\n",
       "    <tr>\n",
       "      <th>0</th>\n",
       "      <td>EZYV01</td>\n",
       "      <td>Asia</td>\n",
       "      <td>High School</td>\n",
       "      <td>N</td>\n",
       "      <td>N</td>\n",
       "      <td>14513</td>\n",
       "      <td>2007</td>\n",
       "      <td>West</td>\n",
       "      <td>592.2029</td>\n",
       "      <td>Hour</td>\n",
       "      <td>Y</td>\n",
       "      <td>Denied</td>\n",
       "    </tr>\n",
       "    <tr>\n",
       "      <th>1</th>\n",
       "      <td>EZYV02</td>\n",
       "      <td>Asia</td>\n",
       "      <td>Master's</td>\n",
       "      <td>Y</td>\n",
       "      <td>N</td>\n",
       "      <td>2412</td>\n",
       "      <td>2002</td>\n",
       "      <td>Northeast</td>\n",
       "      <td>83425.6500</td>\n",
       "      <td>Year</td>\n",
       "      <td>Y</td>\n",
       "      <td>Certified</td>\n",
       "    </tr>\n",
       "    <tr>\n",
       "      <th>2</th>\n",
       "      <td>EZYV03</td>\n",
       "      <td>Asia</td>\n",
       "      <td>Bachelor's</td>\n",
       "      <td>N</td>\n",
       "      <td>Y</td>\n",
       "      <td>44444</td>\n",
       "      <td>2008</td>\n",
       "      <td>West</td>\n",
       "      <td>122996.8600</td>\n",
       "      <td>Year</td>\n",
       "      <td>Y</td>\n",
       "      <td>Denied</td>\n",
       "    </tr>\n",
       "    <tr>\n",
       "      <th>3</th>\n",
       "      <td>EZYV04</td>\n",
       "      <td>Asia</td>\n",
       "      <td>Bachelor's</td>\n",
       "      <td>N</td>\n",
       "      <td>N</td>\n",
       "      <td>98</td>\n",
       "      <td>1897</td>\n",
       "      <td>West</td>\n",
       "      <td>83434.0300</td>\n",
       "      <td>Year</td>\n",
       "      <td>Y</td>\n",
       "      <td>Denied</td>\n",
       "    </tr>\n",
       "    <tr>\n",
       "      <th>4</th>\n",
       "      <td>EZYV05</td>\n",
       "      <td>Africa</td>\n",
       "      <td>Master's</td>\n",
       "      <td>Y</td>\n",
       "      <td>N</td>\n",
       "      <td>1082</td>\n",
       "      <td>2005</td>\n",
       "      <td>South</td>\n",
       "      <td>149907.3900</td>\n",
       "      <td>Year</td>\n",
       "      <td>Y</td>\n",
       "      <td>Certified</td>\n",
       "    </tr>\n",
       "    <tr>\n",
       "      <th>...</th>\n",
       "      <td>...</td>\n",
       "      <td>...</td>\n",
       "      <td>...</td>\n",
       "      <td>...</td>\n",
       "      <td>...</td>\n",
       "      <td>...</td>\n",
       "      <td>...</td>\n",
       "      <td>...</td>\n",
       "      <td>...</td>\n",
       "      <td>...</td>\n",
       "      <td>...</td>\n",
       "      <td>...</td>\n",
       "    </tr>\n",
       "    <tr>\n",
       "      <th>25475</th>\n",
       "      <td>EZYV25476</td>\n",
       "      <td>Asia</td>\n",
       "      <td>Bachelor's</td>\n",
       "      <td>Y</td>\n",
       "      <td>Y</td>\n",
       "      <td>2601</td>\n",
       "      <td>2008</td>\n",
       "      <td>South</td>\n",
       "      <td>77092.5700</td>\n",
       "      <td>Year</td>\n",
       "      <td>Y</td>\n",
       "      <td>Certified</td>\n",
       "    </tr>\n",
       "    <tr>\n",
       "      <th>25476</th>\n",
       "      <td>EZYV25477</td>\n",
       "      <td>Asia</td>\n",
       "      <td>High School</td>\n",
       "      <td>Y</td>\n",
       "      <td>N</td>\n",
       "      <td>3274</td>\n",
       "      <td>2006</td>\n",
       "      <td>Northeast</td>\n",
       "      <td>279174.7900</td>\n",
       "      <td>Year</td>\n",
       "      <td>Y</td>\n",
       "      <td>Certified</td>\n",
       "    </tr>\n",
       "    <tr>\n",
       "      <th>25477</th>\n",
       "      <td>EZYV25478</td>\n",
       "      <td>Asia</td>\n",
       "      <td>Master's</td>\n",
       "      <td>Y</td>\n",
       "      <td>N</td>\n",
       "      <td>1121</td>\n",
       "      <td>1910</td>\n",
       "      <td>South</td>\n",
       "      <td>146298.8500</td>\n",
       "      <td>Year</td>\n",
       "      <td>N</td>\n",
       "      <td>Certified</td>\n",
       "    </tr>\n",
       "    <tr>\n",
       "      <th>25478</th>\n",
       "      <td>EZYV25479</td>\n",
       "      <td>Asia</td>\n",
       "      <td>Master's</td>\n",
       "      <td>Y</td>\n",
       "      <td>Y</td>\n",
       "      <td>1918</td>\n",
       "      <td>1887</td>\n",
       "      <td>West</td>\n",
       "      <td>86154.7700</td>\n",
       "      <td>Year</td>\n",
       "      <td>Y</td>\n",
       "      <td>Certified</td>\n",
       "    </tr>\n",
       "    <tr>\n",
       "      <th>25479</th>\n",
       "      <td>EZYV25480</td>\n",
       "      <td>Asia</td>\n",
       "      <td>Bachelor's</td>\n",
       "      <td>Y</td>\n",
       "      <td>N</td>\n",
       "      <td>3195</td>\n",
       "      <td>1960</td>\n",
       "      <td>Midwest</td>\n",
       "      <td>70876.9100</td>\n",
       "      <td>Year</td>\n",
       "      <td>Y</td>\n",
       "      <td>Certified</td>\n",
       "    </tr>\n",
       "  </tbody>\n",
       "</table>\n",
       "<p>25480 rows × 12 columns</p>\n",
       "</div>"
      ],
      "text/plain": [
       "         case_id continent education_of_employee has_job_experience  \\\n",
       "0         EZYV01      Asia           High School                  N   \n",
       "1         EZYV02      Asia              Master's                  Y   \n",
       "2         EZYV03      Asia            Bachelor's                  N   \n",
       "3         EZYV04      Asia            Bachelor's                  N   \n",
       "4         EZYV05    Africa              Master's                  Y   \n",
       "...          ...       ...                   ...                ...   \n",
       "25475  EZYV25476      Asia            Bachelor's                  Y   \n",
       "25476  EZYV25477      Asia           High School                  Y   \n",
       "25477  EZYV25478      Asia              Master's                  Y   \n",
       "25478  EZYV25479      Asia              Master's                  Y   \n",
       "25479  EZYV25480      Asia            Bachelor's                  Y   \n",
       "\n",
       "      requires_job_training  no_of_employees  yr_of_estab  \\\n",
       "0                         N            14513         2007   \n",
       "1                         N             2412         2002   \n",
       "2                         Y            44444         2008   \n",
       "3                         N               98         1897   \n",
       "4                         N             1082         2005   \n",
       "...                     ...              ...          ...   \n",
       "25475                     Y             2601         2008   \n",
       "25476                     N             3274         2006   \n",
       "25477                     N             1121         1910   \n",
       "25478                     Y             1918         1887   \n",
       "25479                     N             3195         1960   \n",
       "\n",
       "      region_of_employment  prevailing_wage unit_of_wage full_time_position  \\\n",
       "0                     West         592.2029         Hour                  Y   \n",
       "1                Northeast       83425.6500         Year                  Y   \n",
       "2                     West      122996.8600         Year                  Y   \n",
       "3                     West       83434.0300         Year                  Y   \n",
       "4                    South      149907.3900         Year                  Y   \n",
       "...                    ...              ...          ...                ...   \n",
       "25475                South       77092.5700         Year                  Y   \n",
       "25476            Northeast      279174.7900         Year                  Y   \n",
       "25477                South      146298.8500         Year                  N   \n",
       "25478                 West       86154.7700         Year                  Y   \n",
       "25479              Midwest       70876.9100         Year                  Y   \n",
       "\n",
       "      case_status  \n",
       "0          Denied  \n",
       "1       Certified  \n",
       "2          Denied  \n",
       "3          Denied  \n",
       "4       Certified  \n",
       "...           ...  \n",
       "25475   Certified  \n",
       "25476   Certified  \n",
       "25477   Certified  \n",
       "25478   Certified  \n",
       "25479   Certified  \n",
       "\n",
       "[25480 rows x 12 columns]"
      ]
     },
     "execution_count": 2,
     "metadata": {},
     "output_type": "execute_result"
    }
   ],
   "source": [
    "file_path=(\"C:\\\\Users\\\\shrav\\\\Downloads\\\\Visadataset - Visadataset.csv\")\n",
    "visa_df=pd.read_csv(file_path)\n",
    "visa_df"
   ]
  },
  {
   "cell_type": "markdown",
   "id": "d6d4254e",
   "metadata": {},
   "source": [
    " $numerical-data-analysis$"
   ]
  },
  {
   "cell_type": "code",
   "execution_count": 3,
   "id": "edb395a4",
   "metadata": {},
   "outputs": [
    {
     "data": {
      "text/plain": [
       "Index(['case_id', 'continent', 'education_of_employee', 'has_job_experience',\n",
       "       'requires_job_training', 'no_of_employees', 'yr_of_estab',\n",
       "       'region_of_employment', 'prevailing_wage', 'unit_of_wage',\n",
       "       'full_time_position', 'case_status'],\n",
       "      dtype='object')"
      ]
     },
     "execution_count": 3,
     "metadata": {},
     "output_type": "execute_result"
    }
   ],
   "source": [
    "visa_df.columns"
   ]
  },
  {
   "cell_type": "code",
   "execution_count": 5,
   "id": "e9cbcba8",
   "metadata": {},
   "outputs": [
    {
     "data": {
      "text/plain": [
       "0           592.2029\n",
       "1         83425.6500\n",
       "2        122996.8600\n",
       "3         83434.0300\n",
       "4        149907.3900\n",
       "            ...     \n",
       "25475     77092.5700\n",
       "25476    279174.7900\n",
       "25477    146298.8500\n",
       "25478     86154.7700\n",
       "25479     70876.9100\n",
       "Name: prevailing_wage, Length: 25480, dtype: float64"
      ]
     },
     "execution_count": 5,
     "metadata": {},
     "output_type": "execute_result"
    }
   ],
   "source": [
    "visa_df[\"prevailing_wage\"]    #as a series"
   ]
  },
  {
   "cell_type": "code",
   "execution_count": 6,
   "id": "51eba38f",
   "metadata": {},
   "outputs": [
    {
     "data": {
      "text/plain": [
       "array([   592.2029,  83425.65  , 122996.86  , ..., 146298.85  ,\n",
       "        86154.77  ,  70876.91  ])"
      ]
     },
     "execution_count": 6,
     "metadata": {},
     "output_type": "execute_result"
    }
   ],
   "source": [
    "visa_df[\"prevailing_wage\"].values"
   ]
  },
  {
   "cell_type": "markdown",
   "id": "c841ba19",
   "metadata": {},
   "source": [
    "$count$-\n",
    "$min$-\n",
    "$max$-\n",
    "$mean$-\n",
    "$median$-"
   ]
  },
  {
   "cell_type": "code",
   "execution_count": 19,
   "id": "11f202f9",
   "metadata": {},
   "outputs": [
    {
     "data": {
      "text/plain": [
       "25480"
      ]
     },
     "execution_count": 19,
     "metadata": {},
     "output_type": "execute_result"
    }
   ],
   "source": [
    "wage_count=round(visa_df[\"prevailing_wage\"].count(),2)\n",
    "wage_count"
   ]
  },
  {
   "cell_type": "code",
   "execution_count": 29,
   "id": "733959fc",
   "metadata": {},
   "outputs": [
    {
     "data": {
      "text/html": [
       "<div>\n",
       "<style scoped>\n",
       "    .dataframe tbody tr th:only-of-type {\n",
       "        vertical-align: middle;\n",
       "    }\n",
       "\n",
       "    .dataframe tbody tr th {\n",
       "        vertical-align: top;\n",
       "    }\n",
       "\n",
       "    .dataframe thead th {\n",
       "        text-align: right;\n",
       "    }\n",
       "</style>\n",
       "<table border=\"1\" class=\"dataframe\">\n",
       "  <thead>\n",
       "    <tr style=\"text-align: right;\">\n",
       "      <th></th>\n",
       "      <th>count</th>\n",
       "      <th>min</th>\n",
       "      <th>max</th>\n",
       "      <th>mean</th>\n",
       "      <th>median</th>\n",
       "      <th>std</th>\n",
       "    </tr>\n",
       "  </thead>\n",
       "  <tbody>\n",
       "    <tr>\n",
       "      <th>preaviling_wage</th>\n",
       "      <td>25480</td>\n",
       "      <td>2.14</td>\n",
       "      <td>319210.27</td>\n",
       "      <td>74455.81</td>\n",
       "      <td>70308.21</td>\n",
       "      <td>52815.94</td>\n",
       "    </tr>\n",
       "  </tbody>\n",
       "</table>\n",
       "</div>"
      ],
      "text/plain": [
       "                 count   min        max      mean    median       std\n",
       "preaviling_wage  25480  2.14  319210.27  74455.81  70308.21  52815.94"
      ]
     },
     "execution_count": 29,
     "metadata": {},
     "output_type": "execute_result"
    }
   ],
   "source": [
    "dict1={}\n",
    "wage_count=round(visa_df[\"prevailing_wage\"].count(),2)\n",
    "wage_min=round(visa_df[\"prevailing_wage\"].min(),2)\n",
    "wage_max=round(visa_df[\"prevailing_wage\"].max(),2)\n",
    "wage_mean=round(visa_df[\"prevailing_wage\"].mean(),2)\n",
    "wage_median=round(visa_df[\"prevailing_wage\"].median(),2)\n",
    "wage_std=round(visa_df[\"prevailing_wage\"].std(),2)\n",
    "dict1[\"count\"]=wage_count\n",
    "dict1[\"min\"]=wage_min\n",
    "dict1[\"max\"]=wage_max\n",
    "dict1[\"mean\"]=wage_mean\n",
    "dict1[\"median\"]=wage_median\n",
    "dict1[\"std\"]=wage_std\n",
    "dict1\n",
    "pd.DataFrame(dict1,index=[\"preaviling_wage\"])"
   ]
  },
  {
   "cell_type": "code",
   "execution_count": 21,
   "id": "3507e01e",
   "metadata": {},
   "outputs": [
    {
     "data": {
      "text/plain": [
       "25454"
      ]
     },
     "execution_count": 21,
     "metadata": {},
     "output_type": "execute_result"
    }
   ],
   "source": [
    "visa_df[\"prevailing_wage\"].nunique()"
   ]
  },
  {
   "cell_type": "code",
   "execution_count": 22,
   "id": "e30c79b1",
   "metadata": {},
   "outputs": [
    {
     "data": {
      "text/plain": [
       "prevailing_wage\n",
       "82560.2800     2\n",
       "122.6500       2\n",
       "60948.1500     2\n",
       "64357.5800     2\n",
       "108.1200       2\n",
       "              ..\n",
       "25713.9800     1\n",
       "101656.6400    1\n",
       "65665.5500     1\n",
       "50.8813        1\n",
       "70876.9100     1\n",
       "Name: count, Length: 25454, dtype: int64"
      ]
     },
     "execution_count": 22,
     "metadata": {},
     "output_type": "execute_result"
    }
   ],
   "source": [
    "visa_df[\"prevailing_wage\"].value_counts()"
   ]
  },
  {
   "cell_type": "markdown",
   "id": "e62ff31b",
   "metadata": {},
   "source": [
    "never apply value_counts()for numerical data"
   ]
  },
  {
   "cell_type": "markdown",
   "id": "91ba9a24",
   "metadata": {},
   "source": [
    "$using-list$"
   ]
  },
  {
   "cell_type": "code",
   "execution_count": 31,
   "id": "24f9a9b0",
   "metadata": {},
   "outputs": [
    {
     "data": {
      "text/html": [
       "<div>\n",
       "<style scoped>\n",
       "    .dataframe tbody tr th:only-of-type {\n",
       "        vertical-align: middle;\n",
       "    }\n",
       "\n",
       "    .dataframe tbody tr th {\n",
       "        vertical-align: top;\n",
       "    }\n",
       "\n",
       "    .dataframe thead th {\n",
       "        text-align: right;\n",
       "    }\n",
       "</style>\n",
       "<table border=\"1\" class=\"dataframe\">\n",
       "  <thead>\n",
       "    <tr style=\"text-align: right;\">\n",
       "      <th></th>\n",
       "      <th>prevailing_wage</th>\n",
       "    </tr>\n",
       "  </thead>\n",
       "  <tbody>\n",
       "    <tr>\n",
       "      <th>count</th>\n",
       "      <td>25480.00</td>\n",
       "    </tr>\n",
       "    <tr>\n",
       "      <th>min</th>\n",
       "      <td>2.14</td>\n",
       "    </tr>\n",
       "    <tr>\n",
       "      <th>max</th>\n",
       "      <td>319210.27</td>\n",
       "    </tr>\n",
       "    <tr>\n",
       "      <th>mean</th>\n",
       "      <td>74455.81</td>\n",
       "    </tr>\n",
       "    <tr>\n",
       "      <th>median</th>\n",
       "      <td>70308.21</td>\n",
       "    </tr>\n",
       "    <tr>\n",
       "      <th>std</th>\n",
       "      <td>52815.94</td>\n",
       "    </tr>\n",
       "  </tbody>\n",
       "</table>\n",
       "</div>"
      ],
      "text/plain": [
       "        prevailing_wage\n",
       "count          25480.00\n",
       "min                2.14\n",
       "max           319210.27\n",
       "mean           74455.81\n",
       "median         70308.21\n",
       "std            52815.94"
      ]
     },
     "execution_count": 31,
     "metadata": {},
     "output_type": "execute_result"
    }
   ],
   "source": [
    "wage_count=round(visa_df[\"prevailing_wage\"].count(),2)\n",
    "wage_min=round(visa_df[\"prevailing_wage\"].min(),2)\n",
    "wage_max=round(visa_df[\"prevailing_wage\"].max(),2)\n",
    "wage_mean=round(visa_df[\"prevailing_wage\"].mean(),2)\n",
    "wage_median=round(visa_df[\"prevailing_wage\"].median(),2)\n",
    "wage_std=round(visa_df[\"prevailing_wage\"].std(),2)\n",
    "list1=[wage_count,wage_min,wage_max,wage_mean,wage_median,wage_std]\n",
    "pd.DataFrame(list1,\n",
    "            columns=[\"prevailing_wage\"],\n",
    "            index=[\"count\",\"min\",\"max\",\"mean\",\"median\",\"std\"])"
   ]
  },
  {
   "cell_type": "code",
   "execution_count": 86,
   "id": "cbcb37b3",
   "metadata": {},
   "outputs": [
    {
     "name": "stdout",
     "output_type": "stream",
     "text": [
      "['no_of_employees', 'yr_of_estab', 'prevailing_wage']\n",
      "        no_of_employees\n",
      "count          25480.00\n",
      "min              -26.00\n",
      "max           602069.00\n",
      "mean            5667.04\n",
      "median          2109.00\n",
      "std            22877.93\n",
      "        yr_of_estab\n",
      "count      25480.00\n",
      "min         1800.00\n",
      "max         2016.00\n",
      "mean        1979.41\n",
      "median      1997.00\n",
      "std           42.37\n",
      "        prevailing_wage\n",
      "count          25480.00\n",
      "min                2.14\n",
      "max           319210.27\n",
      "mean           74455.81\n",
      "median         70308.21\n",
      "std            52815.94\n"
     ]
    },
    {
     "data": {
      "text/html": [
       "<div>\n",
       "<style scoped>\n",
       "    .dataframe tbody tr th:only-of-type {\n",
       "        vertical-align: middle;\n",
       "    }\n",
       "\n",
       "    .dataframe tbody tr th {\n",
       "        vertical-align: top;\n",
       "    }\n",
       "\n",
       "    .dataframe thead th {\n",
       "        text-align: right;\n",
       "    }\n",
       "</style>\n",
       "<table border=\"1\" class=\"dataframe\">\n",
       "  <thead>\n",
       "    <tr style=\"text-align: right;\">\n",
       "      <th></th>\n",
       "      <th>prevailing_wage</th>\n",
       "    </tr>\n",
       "  </thead>\n",
       "  <tbody>\n",
       "    <tr>\n",
       "      <th>count</th>\n",
       "      <td>25480.00</td>\n",
       "    </tr>\n",
       "    <tr>\n",
       "      <th>min</th>\n",
       "      <td>2.14</td>\n",
       "    </tr>\n",
       "    <tr>\n",
       "      <th>max</th>\n",
       "      <td>319210.27</td>\n",
       "    </tr>\n",
       "    <tr>\n",
       "      <th>mean</th>\n",
       "      <td>74455.81</td>\n",
       "    </tr>\n",
       "    <tr>\n",
       "      <th>median</th>\n",
       "      <td>70308.21</td>\n",
       "    </tr>\n",
       "    <tr>\n",
       "      <th>std</th>\n",
       "      <td>52815.94</td>\n",
       "    </tr>\n",
       "  </tbody>\n",
       "</table>\n",
       "</div>"
      ],
      "text/plain": [
       "        prevailing_wage\n",
       "count          25480.00\n",
       "min                2.14\n",
       "max           319210.27\n",
       "mean           74455.81\n",
       "median         70308.21\n",
       "std            52815.94"
      ]
     },
     "execution_count": 86,
     "metadata": {},
     "output_type": "execute_result"
    }
   ],
   "source": [
    "#step-1:numerical list\n",
    "dtypes=dict(visa_df.dtypes)\n",
    "num=[i for i in dtypes if dtypes[i]!=\"O\"]\n",
    "print(num)\n",
    "dict1={}\n",
    "for i in num:\n",
    "    count=round(visa_df[i].count(),2)\n",
    "    MIN=round(visa_df[i].min(),2)\n",
    "    MAX=round(visa_df[i].max(),2)\n",
    "    mean=round(visa_df[i].mean(),2)\n",
    "    median=round(visa_df[i].median(),2)\n",
    "    std=round(visa_df[i].std(),2)\n",
    "    list1=[count,MIN,MAX,mean,median,std]\n",
    "    dict1[i]=list1\n",
    "    list1=[count,MIN,MAX,mean,median,std]\n",
    "    df=pd.DataFrame(dict1,\n",
    "                columns=[i],\n",
    "    index=[\"count\",\"min\",\"max\",\"mean\",\"median\",\"std\"])\n",
    "    print(df)\n",
    "df"
   ]
  },
  {
   "cell_type": "code",
   "execution_count": 46,
   "id": "d623e9e3",
   "metadata": {},
   "outputs": [
    {
     "name": "stdout",
     "output_type": "stream",
     "text": [
      "['no_of_employees', 'yr_of_estab', 'prevailing_wage']\n"
     ]
    },
    {
     "data": {
      "text/html": [
       "<div>\n",
       "<style scoped>\n",
       "    .dataframe tbody tr th:only-of-type {\n",
       "        vertical-align: middle;\n",
       "    }\n",
       "\n",
       "    .dataframe tbody tr th {\n",
       "        vertical-align: top;\n",
       "    }\n",
       "\n",
       "    .dataframe thead th {\n",
       "        text-align: right;\n",
       "    }\n",
       "</style>\n",
       "<table border=\"1\" class=\"dataframe\">\n",
       "  <thead>\n",
       "    <tr style=\"text-align: right;\">\n",
       "      <th></th>\n",
       "      <th>no_of_employees</th>\n",
       "      <th>yr_of_estab</th>\n",
       "      <th>prevailing_wage</th>\n",
       "    </tr>\n",
       "  </thead>\n",
       "  <tbody>\n",
       "    <tr>\n",
       "      <th>count</th>\n",
       "      <td>25480.00</td>\n",
       "      <td>25480.00</td>\n",
       "      <td>25480.00</td>\n",
       "    </tr>\n",
       "    <tr>\n",
       "      <th>min</th>\n",
       "      <td>-26.00</td>\n",
       "      <td>1800.00</td>\n",
       "      <td>2.14</td>\n",
       "    </tr>\n",
       "    <tr>\n",
       "      <th>max</th>\n",
       "      <td>602069.00</td>\n",
       "      <td>2016.00</td>\n",
       "      <td>319210.27</td>\n",
       "    </tr>\n",
       "    <tr>\n",
       "      <th>mean</th>\n",
       "      <td>5667.04</td>\n",
       "      <td>1979.41</td>\n",
       "      <td>74455.81</td>\n",
       "    </tr>\n",
       "    <tr>\n",
       "      <th>median</th>\n",
       "      <td>2109.00</td>\n",
       "      <td>1997.00</td>\n",
       "      <td>70308.21</td>\n",
       "    </tr>\n",
       "    <tr>\n",
       "      <th>std</th>\n",
       "      <td>22877.93</td>\n",
       "      <td>42.37</td>\n",
       "      <td>52815.94</td>\n",
       "    </tr>\n",
       "  </tbody>\n",
       "</table>\n",
       "</div>"
      ],
      "text/plain": [
       "        no_of_employees  yr_of_estab  prevailing_wage\n",
       "count          25480.00     25480.00         25480.00\n",
       "min              -26.00      1800.00             2.14\n",
       "max           602069.00      2016.00        319210.27\n",
       "mean            5667.04      1979.41         74455.81\n",
       "median          2109.00      1997.00         70308.21\n",
       "std            22877.93        42.37         52815.94"
      ]
     },
     "execution_count": 46,
     "metadata": {},
     "output_type": "execute_result"
    }
   ],
   "source": [
    "#step-1:numerical list\n",
    "dtypes=dict(visa_df.dtypes)\n",
    "num=[i for i in dtypes if dtypes[i]!=\"O\"]\n",
    "print(num)\n",
    "dict1={}\n",
    "for i in num:\n",
    "    count=round(visa_df[i].count(),2)\n",
    "    MIN=round(visa_df[i].min(),2)\n",
    "    MAX=round(visa_df[i].max(),2)\n",
    "    mean=round(visa_df[i].mean(),2)\n",
    "    median=round(visa_df[i].median(),2)\n",
    "    std=round(visa_df[i].std(),2)\n",
    "    list1=[count,MIN,MAX,mean,median,std]\n",
    "    dict1[i]=list1\n",
    "#     list1=[count,MIN,MAX,mean,median,std]\n",
    "    df=pd.DataFrame(dict1,\n",
    "#                 columns=[i],\n",
    "    index=[\"count\",\"min\",\"max\",\"mean\",\"median\",\"std\"])\n",
    "#     print(df)\n",
    "df"
   ]
  },
  {
   "cell_type": "code",
   "execution_count": 47,
   "id": "2441c255",
   "metadata": {},
   "outputs": [
    {
     "data": {
      "text/html": [
       "<div>\n",
       "<style scoped>\n",
       "    .dataframe tbody tr th:only-of-type {\n",
       "        vertical-align: middle;\n",
       "    }\n",
       "\n",
       "    .dataframe tbody tr th {\n",
       "        vertical-align: top;\n",
       "    }\n",
       "\n",
       "    .dataframe thead th {\n",
       "        text-align: right;\n",
       "    }\n",
       "</style>\n",
       "<table border=\"1\" class=\"dataframe\">\n",
       "  <thead>\n",
       "    <tr style=\"text-align: right;\">\n",
       "      <th></th>\n",
       "      <th>no_of_employees</th>\n",
       "      <th>yr_of_estab</th>\n",
       "      <th>prevailing_wage</th>\n",
       "    </tr>\n",
       "  </thead>\n",
       "  <tbody>\n",
       "    <tr>\n",
       "      <th>count</th>\n",
       "      <td>25480.000000</td>\n",
       "      <td>25480.000000</td>\n",
       "      <td>25480.000000</td>\n",
       "    </tr>\n",
       "    <tr>\n",
       "      <th>mean</th>\n",
       "      <td>5667.043210</td>\n",
       "      <td>1979.409929</td>\n",
       "      <td>74455.814592</td>\n",
       "    </tr>\n",
       "    <tr>\n",
       "      <th>std</th>\n",
       "      <td>22877.928848</td>\n",
       "      <td>42.366929</td>\n",
       "      <td>52815.942327</td>\n",
       "    </tr>\n",
       "    <tr>\n",
       "      <th>min</th>\n",
       "      <td>-26.000000</td>\n",
       "      <td>1800.000000</td>\n",
       "      <td>2.136700</td>\n",
       "    </tr>\n",
       "    <tr>\n",
       "      <th>25%</th>\n",
       "      <td>1022.000000</td>\n",
       "      <td>1976.000000</td>\n",
       "      <td>34015.480000</td>\n",
       "    </tr>\n",
       "    <tr>\n",
       "      <th>50%</th>\n",
       "      <td>2109.000000</td>\n",
       "      <td>1997.000000</td>\n",
       "      <td>70308.210000</td>\n",
       "    </tr>\n",
       "    <tr>\n",
       "      <th>75%</th>\n",
       "      <td>3504.000000</td>\n",
       "      <td>2005.000000</td>\n",
       "      <td>107735.512500</td>\n",
       "    </tr>\n",
       "    <tr>\n",
       "      <th>max</th>\n",
       "      <td>602069.000000</td>\n",
       "      <td>2016.000000</td>\n",
       "      <td>319210.270000</td>\n",
       "    </tr>\n",
       "  </tbody>\n",
       "</table>\n",
       "</div>"
      ],
      "text/plain": [
       "       no_of_employees   yr_of_estab  prevailing_wage\n",
       "count     25480.000000  25480.000000     25480.000000\n",
       "mean       5667.043210   1979.409929     74455.814592\n",
       "std       22877.928848     42.366929     52815.942327\n",
       "min         -26.000000   1800.000000         2.136700\n",
       "25%        1022.000000   1976.000000     34015.480000\n",
       "50%        2109.000000   1997.000000     70308.210000\n",
       "75%        3504.000000   2005.000000    107735.512500\n",
       "max      602069.000000   2016.000000    319210.270000"
      ]
     },
     "execution_count": 47,
     "metadata": {},
     "output_type": "execute_result"
    }
   ],
   "source": [
    "visa_df.describe()"
   ]
  },
  {
   "cell_type": "code",
   "execution_count": null,
   "id": "2fef9667",
   "metadata": {},
   "outputs": [],
   "source": [
    "-we implemented describe function with our own python skill"
   ]
  },
  {
   "cell_type": "code",
   "execution_count": 48,
   "id": "1acb38b7",
   "metadata": {},
   "outputs": [
    {
     "data": {
      "text/plain": [
       "74455.81459209183"
      ]
     },
     "execution_count": 48,
     "metadata": {},
     "output_type": "execute_result"
    }
   ],
   "source": [
    "visa_df[\"prevailing_wage\"].mean()\n",
    "#reading a specific column\n",
    "#we have a mean method"
   ]
  },
  {
   "cell_type": "code",
   "execution_count": null,
   "id": "4bb378ac",
   "metadata": {},
   "outputs": [],
   "source": [
    "#np.mean(<specific column data>)"
   ]
  },
  {
   "cell_type": "code",
   "execution_count": 52,
   "id": "301c8391",
   "metadata": {},
   "outputs": [
    {
     "data": {
      "text/plain": [
       "319210.27"
      ]
     },
     "execution_count": 52,
     "metadata": {},
     "output_type": "execute_result"
    }
   ],
   "source": [
    "np.mean(visa_df[\"prevailing_wage\"])\n",
    "np.median(visa_df[\"prevailing_wage\"])\n",
    "np.std(visa_df[\"prevailing_wage\"])\n",
    "np.min(visa_df[\"prevailing_wage\"])\n",
    "np.max(visa_df[\"prevailing_wage\"])"
   ]
  },
  {
   "cell_type": "markdown",
   "id": "ce6add6b",
   "metadata": {},
   "source": [
    "$percentile$-$quantile$"
   ]
  },
  {
   "cell_type": "code",
   "execution_count": null,
   "id": "8a15ac97",
   "metadata": {},
   "outputs": [],
   "source": [
    "-percentile ranges from 1 to 100\n",
    "-quantile q1=25p q2=50p q3=75p\n",
    "-np.percentile(<direct number btw 1 to 100>)\n",
    "-ex:np.percentile(75,data)\n",
    "-np.quantile(<decimal number,data>)\n",
    "-ex:np.quantile(0.75,data)"
   ]
  },
  {
   "cell_type": "code",
   "execution_count": 57,
   "id": "a2c82408",
   "metadata": {},
   "outputs": [
    {
     "name": "stdout",
     "output_type": "stream",
     "text": [
      "34015.48 70308.21 107735.51\n"
     ]
    }
   ],
   "source": [
    "q1=round(np.percentile(visa_df[\"prevailing_wage\"],25),2)\n",
    "q2=round(np.percentile(visa_df[\"prevailing_wage\"],50),2)\n",
    "q3=round(np.percentile(visa_df[\"prevailing_wage\"],75),2)\n",
    "print(q1,q2,q3)"
   ]
  },
  {
   "cell_type": "code",
   "execution_count": 60,
   "id": "e96592c6",
   "metadata": {},
   "outputs": [
    {
     "name": "stdout",
     "output_type": "stream",
     "text": [
      "34015.48 70308.21 107735.51\n"
     ]
    }
   ],
   "source": [
    "q1=round(np.quantile(visa_df[\"prevailing_wage\"],0.25),2)\n",
    "q2=round(np.quantile(visa_df[\"prevailing_wage\"],0.50),2)\n",
    "q3=round(np.quantile(visa_df[\"prevailing_wage\"],0.75),2)\n",
    "print(q1,q2,q3)"
   ]
  },
  {
   "cell_type": "code",
   "execution_count": 62,
   "id": "e006b83d",
   "metadata": {},
   "outputs": [
    {
     "name": "stdout",
     "output_type": "stream",
     "text": [
      "['no_of_employees', 'yr_of_estab', 'prevailing_wage']\n"
     ]
    },
    {
     "data": {
      "text/html": [
       "<div>\n",
       "<style scoped>\n",
       "    .dataframe tbody tr th:only-of-type {\n",
       "        vertical-align: middle;\n",
       "    }\n",
       "\n",
       "    .dataframe tbody tr th {\n",
       "        vertical-align: top;\n",
       "    }\n",
       "\n",
       "    .dataframe thead th {\n",
       "        text-align: right;\n",
       "    }\n",
       "</style>\n",
       "<table border=\"1\" class=\"dataframe\">\n",
       "  <thead>\n",
       "    <tr style=\"text-align: right;\">\n",
       "      <th></th>\n",
       "      <th>no_of_employees</th>\n",
       "      <th>yr_of_estab</th>\n",
       "      <th>prevailing_wage</th>\n",
       "    </tr>\n",
       "  </thead>\n",
       "  <tbody>\n",
       "    <tr>\n",
       "      <th>count</th>\n",
       "      <td>25480.00</td>\n",
       "      <td>25480.00</td>\n",
       "      <td>25480.00</td>\n",
       "    </tr>\n",
       "    <tr>\n",
       "      <th>min</th>\n",
       "      <td>-26.00</td>\n",
       "      <td>1800.00</td>\n",
       "      <td>2.14</td>\n",
       "    </tr>\n",
       "    <tr>\n",
       "      <th>max</th>\n",
       "      <td>602069.00</td>\n",
       "      <td>2016.00</td>\n",
       "      <td>319210.27</td>\n",
       "    </tr>\n",
       "    <tr>\n",
       "      <th>mean</th>\n",
       "      <td>5667.04</td>\n",
       "      <td>1979.41</td>\n",
       "      <td>74455.81</td>\n",
       "    </tr>\n",
       "    <tr>\n",
       "      <th>median</th>\n",
       "      <td>2109.00</td>\n",
       "      <td>1997.00</td>\n",
       "      <td>70308.21</td>\n",
       "    </tr>\n",
       "    <tr>\n",
       "      <th>std</th>\n",
       "      <td>22877.93</td>\n",
       "      <td>42.37</td>\n",
       "      <td>52815.94</td>\n",
       "    </tr>\n",
       "    <tr>\n",
       "      <th>25</th>\n",
       "      <td>1022.00</td>\n",
       "      <td>1976.00</td>\n",
       "      <td>34015.48</td>\n",
       "    </tr>\n",
       "    <tr>\n",
       "      <th>50</th>\n",
       "      <td>2109.00</td>\n",
       "      <td>1997.00</td>\n",
       "      <td>70308.21</td>\n",
       "    </tr>\n",
       "    <tr>\n",
       "      <th>75</th>\n",
       "      <td>3504.00</td>\n",
       "      <td>2005.00</td>\n",
       "      <td>107735.51</td>\n",
       "    </tr>\n",
       "  </tbody>\n",
       "</table>\n",
       "</div>"
      ],
      "text/plain": [
       "        no_of_employees  yr_of_estab  prevailing_wage\n",
       "count          25480.00     25480.00         25480.00\n",
       "min              -26.00      1800.00             2.14\n",
       "max           602069.00      2016.00        319210.27\n",
       "mean            5667.04      1979.41         74455.81\n",
       "median          2109.00      1997.00         70308.21\n",
       "std            22877.93        42.37         52815.94\n",
       "25              1022.00      1976.00         34015.48\n",
       "50              2109.00      1997.00         70308.21\n",
       "75              3504.00      2005.00        107735.51"
      ]
     },
     "execution_count": 62,
     "metadata": {},
     "output_type": "execute_result"
    }
   ],
   "source": [
    "#step-1:numerical list\n",
    "dtypes=dict(visa_df.dtypes)\n",
    "num=[i for i in dtypes if dtypes[i]!=\"O\"]\n",
    "print(num)\n",
    "dict1={}\n",
    "for i in num:\n",
    "    count=round(visa_df[i].count(),2)\n",
    "    MIN=round(visa_df[i].min(),2)\n",
    "    MAX=round(visa_df[i].max(),2)\n",
    "    mean=round(visa_df[i].mean(),2)\n",
    "    median=round(visa_df[i].median(),2)\n",
    "    std=round(visa_df[i].std(),2)\n",
    "    q1=round(np.percentile(visa_df[i],25),2)\n",
    "    q2=round(np.percentile(visa_df[i],50),2)\n",
    "    q3=round(np.percentile(visa_df[i],75),2)\n",
    "    \n",
    "    list1=[count,MIN,MAX,mean,median,std,q1,q2,q3]\n",
    "    dict1[i]=list1\n",
    "#     list1=[count,MIN,MAX,mean,median,std]\n",
    "    df=pd.DataFrame(dict1,\n",
    "#                 columns=[i],\n",
    "    index=[\"count\",\"min\",\"max\",\"mean\",\"median\",\"std\",\"25\",\"50\",\"75\"])\n",
    "#     print(df)\n",
    "df"
   ]
  },
  {
   "cell_type": "code",
   "execution_count": 63,
   "id": "491d9da2",
   "metadata": {},
   "outputs": [
    {
     "data": {
      "text/plain": [
       "34015.48"
      ]
     },
     "execution_count": 63,
     "metadata": {},
     "output_type": "execute_result"
    }
   ],
   "source": [
    "q1=round(np.percentile(visa_df[\"prevailing_wage\"],25),2)\n",
    "q1\n",
    "#what is the mean of this?\n",
    "#25% are below is 34015\n",
    "#25 percentage of observations from the total data having a value below 34015"
   ]
  },
  {
   "cell_type": "markdown",
   "id": "78b5ce08",
   "metadata": {},
   "source": [
    "total_observations=25480\n",
    "25percentage (25480)\n",
    "25*25480/100=6370\n",
    "6370 people have wages less than 34015"
   ]
  },
  {
   "cell_type": "code",
   "execution_count": 66,
   "id": "56254338",
   "metadata": {},
   "outputs": [
    {
     "data": {
      "text/plain": [
       "6370"
      ]
     },
     "execution_count": 66,
     "metadata": {},
     "output_type": "execute_result"
    }
   ],
   "source": [
    "len(visa_df[visa_df[\"prevailing_wage\"]<34015])\n",
    "#how many trues =6370"
   ]
  },
  {
   "cell_type": "markdown",
   "id": "b9f37e8d",
   "metadata": {},
   "source": [
    "$imperical-rule$"
   ]
  },
  {
   "cell_type": "markdown",
   "id": "e73ee40e",
   "metadata": {},
   "source": [
    "<img class=\"mimg rms_img\" style=\"color: rgb(201, 82, 2);\" height=\"180\" width=\"298\" alt=\"Image result for imperical rule\" id=\"emb21CD5C91E\" src=\"data:image/jpeg;base64,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\" data-thhnrepbd=\"1\" data-bm=\"116\">"
   ]
  },
  {
   "cell_type": "markdown",
   "id": "6f4364dd",
   "metadata": {},
   "source": [
    "<img class=\"mimg rms_img\" style=\"color: rgb(100, 100, 103);\" height=\"180\" width=\"267\" alt=\"Image result for impertcal rule\" id=\"embF6CE79B89\" src=\"data:image/jpeg;base64,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\" data-thhnrepbd=\"1\" data-bm=\"134\">"
   ]
  },
  {
   "cell_type": "markdown",
   "id": "a11db3f5",
   "metadata": {},
   "source": [
    "wage_mean,wage_std"
   ]
  },
  {
   "cell_type": "code",
   "execution_count": 73,
   "id": "92dfcfd3",
   "metadata": {},
   "outputs": [
    {
     "name": "stdout",
     "output_type": "stream",
     "text": [
      "21639.87 127271.75 -31176.07 180087.69 -83992.01 232903.63\n"
     ]
    }
   ],
   "source": [
    "val_minus_1=round(wage_mean-1*wage_std,2)\n",
    "val_plus_1=round(wage_mean+1*wage_std,2)\n",
    "val_minus_2=round(wage_mean-2*wage_std,2)\n",
    "val_plus_2=round(wage_mean+2*wage_std,2)\n",
    "val_minus_3=round(wage_mean-3*wage_std,2)\n",
    "val_plus_3=round(wage_mean+3*wage_std,2)\n",
    "print(val_minus_1,val_plus_1,val_minus_2,val_plus_2,val_minus_3,val_plus_3)"
   ]
  },
  {
   "cell_type": "markdown",
   "id": "cd3f5550",
   "metadata": {},
   "source": [
    "-68 percentage of observation have values btw[21639.87,127271.75 ]\n",
    "-95 percentage of observation have values btw[-31176.07,180087.69 ]\n",
    "-99.7 percentage of observation have values btw[-83992.01,232903.63 ]"
   ]
  },
  {
   "cell_type": "code",
   "execution_count": 76,
   "id": "d339a580",
   "metadata": {},
   "outputs": [
    {
     "data": {
      "text/plain": [
       "17171"
      ]
     },
     "execution_count": 76,
     "metadata": {},
     "output_type": "execute_result"
    }
   ],
   "source": [
    "con1=visa_df[\"prevailing_wage\"]>val_minus_1\n",
    "con2=visa_df[\"prevailing_wage\"]<val_plus_1\n",
    "len(visa_df[con1&con2])"
   ]
  },
  {
   "cell_type": "code",
   "execution_count": 78,
   "id": "75e93366",
   "metadata": {},
   "outputs": [
    {
     "data": {
      "text/plain": [
       "0.673901098901099"
      ]
     },
     "execution_count": 78,
     "metadata": {},
     "output_type": "execute_result"
    }
   ],
   "source": [
    "len(visa_df[con1&con2])/len(visa_df)"
   ]
  },
  {
   "cell_type": "code",
   "execution_count": 79,
   "id": "1b4900a1",
   "metadata": {},
   "outputs": [
    {
     "data": {
      "text/plain": [
       "24582"
      ]
     },
     "execution_count": 79,
     "metadata": {},
     "output_type": "execute_result"
    }
   ],
   "source": [
    "con1=visa_df[\"prevailing_wage\"]>val_minus_2\n",
    "con2=visa_df[\"prevailing_wage\"]<val_plus_2\n",
    "len(visa_df[con1&con2])"
   ]
  },
  {
   "cell_type": "code",
   "execution_count": 80,
   "id": "c4fe1284",
   "metadata": {},
   "outputs": [
    {
     "data": {
      "text/plain": [
       "0.9647566718995291"
      ]
     },
     "execution_count": 80,
     "metadata": {},
     "output_type": "execute_result"
    }
   ],
   "source": [
    "len(visa_df[con1&con2])/len(visa_df)"
   ]
  },
  {
   "cell_type": "code",
   "execution_count": 81,
   "id": "187a336e",
   "metadata": {},
   "outputs": [
    {
     "data": {
      "text/plain": [
       "25186"
      ]
     },
     "execution_count": 81,
     "metadata": {},
     "output_type": "execute_result"
    }
   ],
   "source": [
    "con1=visa_df[\"prevailing_wage\"]>val_minus_3\n",
    "con2=visa_df[\"prevailing_wage\"]<val_plus_3\n",
    "len(visa_df[con1&con2])"
   ]
  },
  {
   "cell_type": "code",
   "execution_count": 82,
   "id": "363b0a65",
   "metadata": {},
   "outputs": [
    {
     "data": {
      "text/plain": [
       "0.9884615384615385"
      ]
     },
     "execution_count": 82,
     "metadata": {},
     "output_type": "execute_result"
    }
   ],
   "source": [
    "len(visa_df[con1&con2])/len(visa_df)"
   ]
  },
  {
   "cell_type": "code",
   "execution_count": null,
   "id": "50e430bf",
   "metadata": {},
   "outputs": [],
   "source": [
    "68-95-99.7\n",
    "67-96-98"
   ]
  }
 ],
 "metadata": {
  "kernelspec": {
   "display_name": "Python 3 (ipykernel)",
   "language": "python",
   "name": "python3"
  },
  "language_info": {
   "codemirror_mode": {
    "name": "ipython",
    "version": 3
   },
   "file_extension": ".py",
   "mimetype": "text/x-python",
   "name": "python",
   "nbconvert_exporter": "python",
   "pygments_lexer": "ipython3",
   "version": "3.11.5"
  }
 },
 "nbformat": 4,
 "nbformat_minor": 5
}
